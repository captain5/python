{
 "cells": [
  {
   "cell_type": "markdown",
   "metadata": {},
   "source": [
    "Summary for study vamei django."
   ]
  },
  {
   "cell_type": "markdown",
   "metadata": {
    "collapsed": false
   },
   "source": [
    "import django\n",
    "print(django.VERSION)"
   ]
  },
  {
   "cell_type": "markdown",
   "metadata": {
    "collapsed": true
   },
   "source": [
    "django-admin.py startproject mysite\n",
    "\n",
    "python2 manage.py runserver 8000\n",
    "\n",
    "urlpatterns format is for python2\n",
    "\n",
    "urls.py 指挥官，负责分配请求的URL到相关函数的映射。\n"
   ]
  },
  {
   "cell_type": "code",
   "execution_count": null,
   "metadata": {
    "collapsed": true
   },
   "outputs": [],
   "source": [
    "#urls.py\n",
    "from django.conf.urls import include, url\n",
    "from django.contrib import admin\n",
    "import views\n",
    "\n",
    "admin.autodiscover()\n",
    "\n",
    "urlpatterns = [\n",
    "    url(r'^admin/', admin.site.urls),\n",
    "    url(r'^$', views.first_page),\n",
    "    url(r'^west/', include('west.urls'))\n",
    "]"
   ]
  },
  {
   "cell_type": "code",
   "execution_count": null,
   "metadata": {
    "collapsed": true
   },
   "outputs": [],
   "source": [
    "#views.py\n",
    "# -*- coding: utf-8 -*-\n",
    "\n",
    "from django.http import HttpResponse\n",
    "\n",
    "def first_page(request):\n",
    "    return HttpResponse(\"<p>世界好</p>\")"
   ]
  },
  {
   "cell_type": "code",
   "execution_count": null,
   "metadata": {
    "collapsed": true
   },
   "outputs": [],
   "source": []
  }
 ],
 "metadata": {
  "kernelspec": {
   "display_name": "Python 3",
   "language": "python",
   "name": "python3"
  },
  "language_info": {
   "codemirror_mode": {
    "name": "ipython",
    "version": 3
   },
   "file_extension": ".py",
   "mimetype": "text/x-python",
   "name": "python",
   "nbconvert_exporter": "python",
   "pygments_lexer": "ipython3",
   "version": "3.5.1"
  }
 },
 "nbformat": 4,
 "nbformat_minor": 2
}
